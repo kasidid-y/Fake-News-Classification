{
 "cells": [
  {
   "cell_type": "code",
   "execution_count": 1,
   "id": "a1b4ec25-22f0-4088-adf4-909a7c9e0394",
   "metadata": {},
   "outputs": [
    {
     "name": "stderr",
     "output_type": "stream",
     "text": [
      "[nltk_data] Downloading package stopwords to\n",
      "[nltk_data]     C:\\Users\\ADMIN\\AppData\\Roaming\\nltk_data...\n",
      "[nltk_data]   Unzipping corpora\\stopwords.zip.\n",
      "[nltk_data] Downloading package punkt to\n",
      "[nltk_data]     C:\\Users\\ADMIN\\AppData\\Roaming\\nltk_data...\n",
      "[nltk_data]   Package punkt is already up-to-date!\n"
     ]
    }
   ],
   "source": [
    "import pandas as pd\n",
    "import numpy as np\n",
    "import re\n",
    "import nltk\n",
    "nltk.download('stopwords')\n",
    "nltk.download('punkt')\n",
    "from nltk.corpus import stopwords\n",
    "from nltk.tokenize import sent_tokenize\n",
    "from nltk.tokenize import word_tokenize\n",
    "\n",
    "from sklearn.feature_extraction.text import TfidfVectorizer\n",
    "from sklearn.linear_model import LogisticRegression\n",
    "\n",
    "from sklearn.metrics import accuracy_score, confusion_matrix, classification_report\n",
    "from sklearn.model_selection import train_test_split\n"
   ]
  },
  {
   "cell_type": "code",
   "execution_count": 3,
   "id": "76d4ba5e-c30c-4727-baad-410282264874",
   "metadata": {},
   "outputs": [
    {
     "data": {
      "text/html": [
       "<div>\n",
       "<style scoped>\n",
       "    .dataframe tbody tr th:only-of-type {\n",
       "        vertical-align: middle;\n",
       "    }\n",
       "\n",
       "    .dataframe tbody tr th {\n",
       "        vertical-align: top;\n",
       "    }\n",
       "\n",
       "    .dataframe thead th {\n",
       "        text-align: right;\n",
       "    }\n",
       "</style>\n",
       "<table border=\"1\" class=\"dataframe\">\n",
       "  <thead>\n",
       "    <tr style=\"text-align: right;\">\n",
       "      <th></th>\n",
       "      <th>title</th>\n",
       "      <th>text</th>\n",
       "      <th>label</th>\n",
       "    </tr>\n",
       "  </thead>\n",
       "  <tbody>\n",
       "    <tr>\n",
       "      <th>0</th>\n",
       "      <td>Sanders back in U.S. Senate, blasts 'coloniali...</td>\n",
       "      <td>WASHINGTON (Reuters) - Democratic U.S. preside...</td>\n",
       "      <td>1</td>\n",
       "    </tr>\n",
       "    <tr>\n",
       "      <th>1</th>\n",
       "      <td>Kremlin: Syria peoples' congress being 'active...</td>\n",
       "      <td>MOSCOW (Reuters) - A proposal to convene a con...</td>\n",
       "      <td>1</td>\n",
       "    </tr>\n",
       "    <tr>\n",
       "      <th>2</th>\n",
       "      <td>Oregon Cop Convicted Of Shattering Bikers Co...</td>\n",
       "      <td>In a baffling fit of rage, an Oregon State Pol...</td>\n",
       "      <td>0</td>\n",
       "    </tr>\n",
       "    <tr>\n",
       "      <th>3</th>\n",
       "      <td>Twitter Erupts With Glee Over #CruzSexScandal...</td>\n",
       "      <td>The last thing any politician running for the ...</td>\n",
       "      <td>0</td>\n",
       "    </tr>\n",
       "    <tr>\n",
       "      <th>4</th>\n",
       "      <td>MUST WATCH VIDEO: Obama Tries To Trash Trump B...</td>\n",
       "      <td>This is too good to miss! Mr. Teleprompter did...</td>\n",
       "      <td>0</td>\n",
       "    </tr>\n",
       "  </tbody>\n",
       "</table>\n",
       "</div>"
      ],
      "text/plain": [
       "                                               title  \\\n",
       "0  Sanders back in U.S. Senate, blasts 'coloniali...   \n",
       "1  Kremlin: Syria peoples' congress being 'active...   \n",
       "2   Oregon Cop Convicted Of Shattering Bikers Co...   \n",
       "3   Twitter Erupts With Glee Over #CruzSexScandal...   \n",
       "4  MUST WATCH VIDEO: Obama Tries To Trash Trump B...   \n",
       "\n",
       "                                                text  label  \n",
       "0  WASHINGTON (Reuters) - Democratic U.S. preside...      1  \n",
       "1  MOSCOW (Reuters) - A proposal to convene a con...      1  \n",
       "2  In a baffling fit of rage, an Oregon State Pol...      0  \n",
       "3  The last thing any politician running for the ...      0  \n",
       "4  This is too good to miss! Mr. Teleprompter did...      0  "
      ]
     },
     "execution_count": 3,
     "metadata": {},
     "output_type": "execute_result"
    }
   ],
   "source": [
    "df = pd.read_csv('evaluationFakenews.csv', encoding='latin1')\n",
    "df.head()"
   ]
  },
  {
   "cell_type": "code",
   "execution_count": 41,
   "id": "bc0f4161-73a7-47fd-b3bc-97dee9afa976",
   "metadata": {},
   "outputs": [],
   "source": [
    "def clean_text(texts):\n",
    "    c_text = []\n",
    "    for text in texts:\n",
    "        # Replace special characters\n",
    "        text = text.replace('\\x92', \"'\")\n",
    "        text = text.replace('\\x93', '\"')\n",
    "        text = text.replace('\\x94', '\"')\n",
    "\n",
    "        sent_list = sent_tokenize(text)\n",
    "\n",
    "        cleaned_sentences = []\n",
    "        for t_sent in sent_list:\n",
    "            c_sent = re.sub(r'[^\\w.]', ' ', t_sent)\n",
    "            cleaned_sentences.append(c_sent)\n",
    "\n",
    "        # Join cleaned sentences into a single text\n",
    "        cleaned_text = ' '.join(cleaned_sentences)\n",
    "        c_text.append(cleaned_text)\n",
    "\n",
    "    return c_text"
   ]
  },
  {
   "cell_type": "code",
   "execution_count": 43,
   "id": "482918e6-c9f7-42d1-aa00-1f4a2c035454",
   "metadata": {},
   "outputs": [
    {
     "name": "stdout",
     "output_type": "stream",
     "text": [
      "Orignal Text: WASHINGTON (Reuters) - Democratic U.S. presidential hopeful Bernie Sanders brought his firebrand rhetoric back to the floor of the Senate on Tuesday to condemn a White House-backed bill on Puerto Ricos financial crisis as colonialism at its worst. Sanders, a self-described democratic socialist who turned an unlikely presidential bid into a political movement to combat inequality, warned that legislation due for a crucial Senate vote on Wednesday would subject Puerto Rico to Republican trickle-down economics and favor vulture capitalists at the expense of the islands increasingly impoverished population. An aide said it was the first time Sanders has spoken in the Senate since December. Does that sound like the kind of morality that should be passed here in the United States Senate? Sanders fumed during an eight-minute appearance to support an hours-long speech by Democratic Senator Robert Menendez of New Jersey, who opposes the bill. The Vermont senator used his appearance to rail against details of the legislation, which would put much of Puerto Ricos management in the hands of a seven-member oversight board and require the island to pay $370 million over five years for the boards administration costs even as it cuts funding for education, healthcare and pensions. In an exchange with Menendez, Sanders said, How in Gods name do you run up an administrative cost of $370 million, adding, I know this sounds so absurd that people may think Im misleading them. Would my friend from New Jersey agree that this is colonialism at its worst? asked Sanders, who announced last week that he would vote for presumptive Democratic presidential nominee Hillary Clinton in her November election contest against Republican Donald Trump. Oh absolutely, replied Menendez. The Puerto Rico bill, which has already been passed by the Republican-controlled House of Representatives, faces opposition from both sides of the aisle in the Senate. Nevertheless, the Obama administration and Republican leaders are trying to get the bill passed before a July 1 deadline, when the island is scheduled to make a $1.9 billion payment on its $70 billion debt.\n",
      "\n",
      " Clean Text: WASHINGTON  Reuters    Democratic U.S. presidential hopeful Bernie Sanders brought his firebrand rhetoric back to the floor of the Senate on Tuesday to condemn a White House backed bill on Puerto Rico s financial crisis as  colonialism at its worst.  Sanders  a self described democratic socialist who turned an unlikely presidential bid into a political movement to combat inequality  warned that legislation due for a crucial Senate vote on Wednesday would subject Puerto Rico to Republican trickle down economics and favor  vulture capitalists  at the expense of the island s increasingly impoverished population. An aide said it was the first time Sanders has spoken in the Senate since December.  Does that sound like the kind of morality that should be passed here in the United States Senate   Sanders fumed during an eight minute appearance to support an hours long speech by Democratic Senator Robert Menendez of New Jersey  who opposes the bill. The Vermont senator used his appearance to rail against details of the legislation  which would put much of Puerto Rico s management in the hands of a seven member oversight board and require the island to pay  370 million over five years for the board s administration costs even as it cuts funding for education  healthcare and pensions. In an exchange with Menendez  Sanders said   How in God s name do you run up an administrative cost of  370 million   adding   I know this sounds so absurd that people may think I m misleading them.   Would my friend from New Jersey agree that this is colonialism at its worst   asked Sanders  who announced last week that he would vote for presumptive Democratic presidential nominee Hillary Clinton in her November election contest against Republican Donald Trump.  Oh absolutely   replied Menendez. The Puerto Rico bill  which has already been passed by the Republican controlled House of Representatives  faces opposition from both sides of the aisle in the Senate. Nevertheless  the Obama administration and Republican leaders are trying to get the bill passed before a July 1 deadline  when the island is scheduled to make a  1.9 billion payment on its  70 billion debt.\n"
     ]
    }
   ],
   "source": [
    "clean_text_list = clean_text(list(df['text']))\n",
    "clean_title_list = clean_text(list(df['title']))\n",
    "\n",
    "\n",
    "ori = df['text'][0]\n",
    "clean = clean_text_list[0]\n",
    "\n",
    "print(f'Orignal Text: {ori}\\n\\n Clean Text: {clean}')"
   ]
  },
  {
   "cell_type": "code",
   "execution_count": 45,
   "id": "65c2ae03-d76b-47a0-a1bb-6555d847b4e3",
   "metadata": {},
   "outputs": [],
   "source": [
    "def combine_text(text_list1,text_list2):\n",
    "  news_list = []\n",
    "\n",
    "  for title , text in zip(text_list1, text_list2):\n",
    "    texts = title+' '+text\n",
    "    news_list.append(texts)\n",
    "  return news_list"
   ]
  },
  {
   "cell_type": "code",
   "execution_count": 47,
   "id": "c2e28c54-745f-4d11-aba0-ad49b6507f35",
   "metadata": {},
   "outputs": [
    {
     "data": {
      "text/plain": [
       "'Sanders back in U.S. Senate  blasts  colonialism  in Puerto Rico WASHINGTON  Reuters    Democratic U.S. presidential hopeful Bernie Sanders brought his firebrand rhetoric back to the floor of the Senate on Tuesday to condemn a White House backed bill on Puerto Rico s financial crisis as  colonialism at its worst.  Sanders  a self described democratic socialist who turned an unlikely presidential bid into a political movement to combat inequality  warned that legislation due for a crucial Senate vote on Wednesday would subject Puerto Rico to Republican trickle down economics and favor  vulture capitalists  at the expense of the island s increasingly impoverished population. An aide said it was the first time Sanders has spoken in the Senate since December.  Does that sound like the kind of morality that should be passed here in the United States Senate   Sanders fumed during an eight minute appearance to support an hours long speech by Democratic Senator Robert Menendez of New Jersey  who opposes the bill. The Vermont senator used his appearance to rail against details of the legislation  which would put much of Puerto Rico s management in the hands of a seven member oversight board and require the island to pay  370 million over five years for the board s administration costs even as it cuts funding for education  healthcare and pensions. In an exchange with Menendez  Sanders said   How in God s name do you run up an administrative cost of  370 million   adding   I know this sounds so absurd that people may think I m misleading them.   Would my friend from New Jersey agree that this is colonialism at its worst   asked Sanders  who announced last week that he would vote for presumptive Democratic presidential nominee Hillary Clinton in her November election contest against Republican Donald Trump.  Oh absolutely   replied Menendez. The Puerto Rico bill  which has already been passed by the Republican controlled House of Representatives  faces opposition from both sides of the aisle in the Senate. Nevertheless  the Obama administration and Republican leaders are trying to get the bill passed before a July 1 deadline  when the island is scheduled to make a  1.9 billion payment on its  70 billion debt.'"
      ]
     },
     "execution_count": 47,
     "metadata": {},
     "output_type": "execute_result"
    }
   ],
   "source": [
    "news = combine_text(clean_title_list,clean_text_list)\n",
    "news[0]"
   ]
  },
  {
   "cell_type": "code",
   "execution_count": 49,
   "id": "397a016d-ba37-406b-ae54-b8a86b308744",
   "metadata": {},
   "outputs": [
    {
     "data": {
      "text/html": [
       "<div>\n",
       "<style scoped>\n",
       "    .dataframe tbody tr th:only-of-type {\n",
       "        vertical-align: middle;\n",
       "    }\n",
       "\n",
       "    .dataframe tbody tr th {\n",
       "        vertical-align: top;\n",
       "    }\n",
       "\n",
       "    .dataframe thead th {\n",
       "        text-align: right;\n",
       "    }\n",
       "</style>\n",
       "<table border=\"1\" class=\"dataframe\">\n",
       "  <thead>\n",
       "    <tr style=\"text-align: right;\">\n",
       "      <th></th>\n",
       "      <th>title</th>\n",
       "      <th>text</th>\n",
       "      <th>label</th>\n",
       "      <th>news</th>\n",
       "    </tr>\n",
       "  </thead>\n",
       "  <tbody>\n",
       "    <tr>\n",
       "      <th>0</th>\n",
       "      <td>Sanders back in U.S. Senate, blasts 'coloniali...</td>\n",
       "      <td>WASHINGTON (Reuters) - Democratic U.S. preside...</td>\n",
       "      <td>1</td>\n",
       "      <td>Sanders back in U.S. Senate  blasts  coloniali...</td>\n",
       "    </tr>\n",
       "    <tr>\n",
       "      <th>1</th>\n",
       "      <td>Kremlin: Syria peoples' congress being 'active...</td>\n",
       "      <td>MOSCOW (Reuters) - A proposal to convene a con...</td>\n",
       "      <td>1</td>\n",
       "      <td>Kremlin  Syria peoples  congress being  active...</td>\n",
       "    </tr>\n",
       "    <tr>\n",
       "      <th>2</th>\n",
       "      <td>Oregon Cop Convicted Of Shattering Bikers Co...</td>\n",
       "      <td>In a baffling fit of rage, an Oregon State Pol...</td>\n",
       "      <td>0</td>\n",
       "      <td>Oregon Cop Convicted Of Shattering Biker s Co...</td>\n",
       "    </tr>\n",
       "    <tr>\n",
       "      <th>3</th>\n",
       "      <td>Twitter Erupts With Glee Over #CruzSexScandal...</td>\n",
       "      <td>The last thing any politician running for the ...</td>\n",
       "      <td>0</td>\n",
       "      <td>Twitter Erupts With Glee Over  CruzSexScandal...</td>\n",
       "    </tr>\n",
       "    <tr>\n",
       "      <th>4</th>\n",
       "      <td>MUST WATCH VIDEO: Obama Tries To Trash Trump B...</td>\n",
       "      <td>This is too good to miss! Mr. Teleprompter did...</td>\n",
       "      <td>0</td>\n",
       "      <td>MUST WATCH VIDEO  Obama Tries To Trash Trump B...</td>\n",
       "    </tr>\n",
       "  </tbody>\n",
       "</table>\n",
       "</div>"
      ],
      "text/plain": [
       "                                               title  \\\n",
       "0  Sanders back in U.S. Senate, blasts 'coloniali...   \n",
       "1  Kremlin: Syria peoples' congress being 'active...   \n",
       "2   Oregon Cop Convicted Of Shattering Bikers Co...   \n",
       "3   Twitter Erupts With Glee Over #CruzSexScandal...   \n",
       "4  MUST WATCH VIDEO: Obama Tries To Trash Trump B...   \n",
       "\n",
       "                                                text  label  \\\n",
       "0  WASHINGTON (Reuters) - Democratic U.S. preside...      1   \n",
       "1  MOSCOW (Reuters) - A proposal to convene a con...      1   \n",
       "2  In a baffling fit of rage, an Oregon State Pol...      0   \n",
       "3  The last thing any politician running for the ...      0   \n",
       "4  This is too good to miss! Mr. Teleprompter did...      0   \n",
       "\n",
       "                                                news  \n",
       "0  Sanders back in U.S. Senate  blasts  coloniali...  \n",
       "1  Kremlin  Syria peoples  congress being  active...  \n",
       "2   Oregon Cop Convicted Of Shattering Biker s Co...  \n",
       "3   Twitter Erupts With Glee Over  CruzSexScandal...  \n",
       "4  MUST WATCH VIDEO  Obama Tries To Trash Trump B...  "
      ]
     },
     "execution_count": 49,
     "metadata": {},
     "output_type": "execute_result"
    }
   ],
   "source": [
    "df['news'] = news\n",
    "df.head()"
   ]
  },
  {
   "cell_type": "code",
   "execution_count": 51,
   "id": "0948dddf-ef28-48da-8ca1-378d2333ade3",
   "metadata": {},
   "outputs": [],
   "source": [
    "def custom_word_tokenize(texts):\n",
    "    stop_words = set(stopwords.words('english'))\n",
    "    word_list = []\n",
    "    tokenized_texts = []\n",
    "\n",
    "    for text in texts:\n",
    "        tokens = word_tokenize(text)\n",
    "        for token in tokens:\n",
    "          if token not in stop_words:\n",
    "            word_list.append(token)\n",
    "        tokenized_texts.append(word_list)\n",
    "        word_list = []\n",
    "    return tokenized_texts"
   ]
  },
  {
   "cell_type": "code",
   "execution_count": 55,
   "id": "032e36df-5757-4332-8fe1-b52f474e7dfc",
   "metadata": {},
   "outputs": [
    {
     "data": {
      "text/plain": [
       "['Sanders',\n",
       " 'back',\n",
       " 'U.S.',\n",
       " 'Senate',\n",
       " 'blasts',\n",
       " 'colonialism',\n",
       " 'Puerto',\n",
       " 'Rico',\n",
       " 'WASHINGTON',\n",
       " 'Reuters',\n",
       " 'Democratic']"
      ]
     },
     "execution_count": 55,
     "metadata": {},
     "output_type": "execute_result"
    }
   ],
   "source": [
    "tokens_list = custom_word_tokenize(df['news'])\n",
    "tokens_list[0][0:11]"
   ]
  },
  {
   "cell_type": "code",
   "execution_count": 59,
   "id": "c76e42ce-2e0f-4f75-bac4-b022928605c2",
   "metadata": {},
   "outputs": [],
   "source": [
    "texts = [' '.join(token) for token in tokens_list]"
   ]
  },
  {
   "cell_type": "code",
   "execution_count": 63,
   "id": "efb6447e-aad6-4dd7-b71c-6da00c358730",
   "metadata": {},
   "outputs": [],
   "source": [
    "tf_vectorizer = TfidfVectorizer()\n",
    "X = tf_vectorizer.fit_transform(texts)\n",
    "y = df['label']\n",
    "\n",
    "X_train, X_test, y_train, y_test = train_test_split(X, y, test_size=0.2, random_state=42)\n",
    "model = LogisticRegression()\n",
    "model.fit(X_train, y_train)\n",
    "\n",
    "y_pred = model.predict(X_test)"
   ]
  },
  {
   "cell_type": "code",
   "execution_count": 85,
   "id": "0c7632cf-eeba-444c-b576-af9ae059e082",
   "metadata": {},
   "outputs": [
    {
     "name": "stdout",
     "output_type": "stream",
     "text": [
      "Accuray: 0.958128078817734\n",
      "Confusion Matrix:\n",
      "                label 0 :fake  label 1 :real\n",
      "label 0 :fake            731             33\n",
      "label 1 :real             35            825\n",
      "Classification Report:\n",
      "               precision    recall  f1-score   support\n",
      "\n",
      "           0       0.95      0.96      0.96       764\n",
      "           1       0.96      0.96      0.96       860\n",
      "\n",
      "    accuracy                           0.96      1624\n",
      "   macro avg       0.96      0.96      0.96      1624\n",
      "weighted avg       0.96      0.96      0.96      1624\n",
      "\n"
     ]
    }
   ],
   "source": [
    "accuracy = accuracy_score(y_test, y_pred)\n",
    "conf_matrix = confusion_matrix(y_test, y_pred)\n",
    "class_report = classification_report(y_test, y_pred)\n",
    "\n",
    "classes = ['label 0 :fake', 'label 1 :real']\n",
    "confus_matrix = pd.DataFrame(conf_matrix,\n",
    "                            index = classes,\n",
    "                             columns = classes\n",
    "                            )\n",
    "confus_matrix\n",
    "print(\"Accuray:\", accuracy)\n",
    "print(\"Confusion Matrix:\\n\", confus_matrix)\n",
    "print(\"Classification Report:\\n\", class_report)\n",
    "\n"
   ]
  },
  {
   "cell_type": "code",
   "execution_count": 87,
   "id": "70c33c1e-8233-4a44-a6a6-af93cf660f2e",
   "metadata": {},
   "outputs": [
    {
     "name": "stdout",
     "output_type": "stream",
     "text": [
      "/c/Users/ADMIN/Desktop/Pythonfolder\n"
     ]
    }
   ],
   "source": [
    "!pwd"
   ]
  },
  {
   "cell_type": "code",
   "execution_count": null,
   "id": "b3f4bbe1-d1c2-4ea1-b492-8897b0138e52",
   "metadata": {},
   "outputs": [],
   "source": []
  }
 ],
 "metadata": {
  "kernelspec": {
   "display_name": "Python 3 (ipykernel)",
   "language": "python",
   "name": "python3"
  },
  "language_info": {
   "codemirror_mode": {
    "name": "ipython",
    "version": 3
   },
   "file_extension": ".py",
   "mimetype": "text/x-python",
   "name": "python",
   "nbconvert_exporter": "python",
   "pygments_lexer": "ipython3",
   "version": "3.11.3"
  }
 },
 "nbformat": 4,
 "nbformat_minor": 5
}
