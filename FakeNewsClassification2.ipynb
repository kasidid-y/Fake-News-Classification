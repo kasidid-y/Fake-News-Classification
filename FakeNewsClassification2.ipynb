{
 "cells": [
  {
   "cell_type": "code",
   "execution_count": 1,
   "id": "168543c6-5672-4fe0-801b-882ca9a6906d",
   "metadata": {},
   "outputs": [],
   "source": [
    "import pandas as pd\n",
    "import numpy as np\n",
    "import re\n"
   ]
  },
  {
   "cell_type": "code",
   "execution_count": 2,
   "id": "2f69c28a-43b8-4bf5-8b2c-6e2016c1a772",
   "metadata": {},
   "outputs": [
    {
     "data": {
      "text/html": [
       "<div>\n",
       "<style scoped>\n",
       "    .dataframe tbody tr th:only-of-type {\n",
       "        vertical-align: middle;\n",
       "    }\n",
       "\n",
       "    .dataframe tbody tr th {\n",
       "        vertical-align: top;\n",
       "    }\n",
       "\n",
       "    .dataframe thead th {\n",
       "        text-align: right;\n",
       "    }\n",
       "</style>\n",
       "<table border=\"1\" class=\"dataframe\">\n",
       "  <thead>\n",
       "    <tr style=\"text-align: right;\">\n",
       "      <th></th>\n",
       "      <th>title</th>\n",
       "      <th>text</th>\n",
       "      <th>label</th>\n",
       "    </tr>\n",
       "  </thead>\n",
       "  <tbody>\n",
       "    <tr>\n",
       "      <th>0</th>\n",
       "      <td>Sanders back in U.S. Senate, blasts 'coloniali...</td>\n",
       "      <td>WASHINGTON (Reuters) - Democratic U.S. preside...</td>\n",
       "      <td>1</td>\n",
       "    </tr>\n",
       "    <tr>\n",
       "      <th>1</th>\n",
       "      <td>Kremlin: Syria peoples' congress being 'active...</td>\n",
       "      <td>MOSCOW (Reuters) - A proposal to convene a con...</td>\n",
       "      <td>1</td>\n",
       "    </tr>\n",
       "    <tr>\n",
       "      <th>2</th>\n",
       "      <td>Oregon Cop Convicted Of Shattering Bikers Co...</td>\n",
       "      <td>In a baffling fit of rage, an Oregon State Pol...</td>\n",
       "      <td>0</td>\n",
       "    </tr>\n",
       "    <tr>\n",
       "      <th>3</th>\n",
       "      <td>Twitter Erupts With Glee Over #CruzSexScandal...</td>\n",
       "      <td>The last thing any politician running for the ...</td>\n",
       "      <td>0</td>\n",
       "    </tr>\n",
       "    <tr>\n",
       "      <th>4</th>\n",
       "      <td>MUST WATCH VIDEO: Obama Tries To Trash Trump B...</td>\n",
       "      <td>This is too good to miss! Mr. Teleprompter did...</td>\n",
       "      <td>0</td>\n",
       "    </tr>\n",
       "  </tbody>\n",
       "</table>\n",
       "</div>"
      ],
      "text/plain": [
       "                                               title  \\\n",
       "0  Sanders back in U.S. Senate, blasts 'coloniali...   \n",
       "1  Kremlin: Syria peoples' congress being 'active...   \n",
       "2   Oregon Cop Convicted Of Shattering Bikers Co...   \n",
       "3   Twitter Erupts With Glee Over #CruzSexScandal...   \n",
       "4  MUST WATCH VIDEO: Obama Tries To Trash Trump B...   \n",
       "\n",
       "                                                text  label  \n",
       "0  WASHINGTON (Reuters) - Democratic U.S. preside...      1  \n",
       "1  MOSCOW (Reuters) - A proposal to convene a con...      1  \n",
       "2  In a baffling fit of rage, an Oregon State Pol...      0  \n",
       "3  The last thing any politician running for the ...      0  \n",
       "4  This is too good to miss! Mr. Teleprompter did...      0  "
      ]
     },
     "execution_count": 2,
     "metadata": {},
     "output_type": "execute_result"
    }
   ],
   "source": [
    "df = pd.read_csv(\"evaluationFakenews.csv\", encoding= 'latin-1')\n",
    "\n",
    "df.head()"
   ]
  },
  {
   "cell_type": "code",
   "execution_count": 3,
   "id": "3851f21c-e8f2-498a-adee-36bf71d29f0d",
   "metadata": {},
   "outputs": [
    {
     "data": {
      "text/plain": [
       "title    0\n",
       "text     0\n",
       "label    0\n",
       "dtype: int64"
      ]
     },
     "execution_count": 3,
     "metadata": {},
     "output_type": "execute_result"
    }
   ],
   "source": [
    "df.isnull().sum()"
   ]
  },
  {
   "cell_type": "code",
   "execution_count": 4,
   "id": "f9a14fe5-e3c3-4c4a-b16a-961f49964dac",
   "metadata": {},
   "outputs": [
    {
     "data": {
      "text/plain": [
       "0"
      ]
     },
     "execution_count": 4,
     "metadata": {},
     "output_type": "execute_result"
    }
   ],
   "source": [
    "df.duplicated().sum()"
   ]
  },
  {
   "cell_type": "code",
   "execution_count": 5,
   "id": "3241f5f3-0f46-4b38-875a-c6b621189cdf",
   "metadata": {},
   "outputs": [
    {
     "data": {
      "text/plain": [
       "(8117, 3)"
      ]
     },
     "execution_count": 5,
     "metadata": {},
     "output_type": "execute_result"
    }
   ],
   "source": [
    "df.shape"
   ]
  },
  {
   "cell_type": "code",
   "execution_count": 6,
   "id": "2d1bc5cf-3a47-478c-a5f3-ae2d6ab1572f",
   "metadata": {},
   "outputs": [],
   "source": [
    "import matplotlib.pyplot as plt\n",
    "import seaborn as sns"
   ]
  },
  {
   "cell_type": "code",
   "execution_count": 7,
   "id": "97b1f8f3-65e3-4ba1-bad8-b2b7e50844a5",
   "metadata": {},
   "outputs": [
    {
     "data": {
      "image/png": "[encoded data removed]",
      "text/plain": [
       "<Figure size 640x480 with 1 Axes>"
      ]
     },
     "metadata": {},
     "output_type": "display_data"
    }
   ],
   "source": [
    "ax = sns.countplot(x=df['label'])\n",
    "\n",
    "# Change tick labels\n",
    "ax.set_xticklabels(['fake news: 0', 'real news 1'])\n",
    "\n",
    "plt.show()"
   ]
  },
  {
   "cell_type": "code",
   "execution_count": 8,
   "id": "5318f40f-c66b-48bb-9aea-a4dd499fef1b",
   "metadata": {},
   "outputs": [
    {
     "data": {
      "text/plain": [
       "1    4314\n",
       "0    3803\n",
       "Name: label, dtype: int64"
      ]
     },
     "execution_count": 8,
     "metadata": {},
     "output_type": "execute_result"
    }
   ],
   "source": [
    "df['label'].value_counts()"
   ]
  },
  {
   "cell_type": "markdown",
   "id": "2e86d573-f042-4679-9dfa-859bed7c049f",
   "metadata": {},
   "source": [
    "# Preprocessing"
   ]
  },
  {
   "cell_type": "markdown",
   "id": "c3bfa653-1f6e-46ae-b94c-38f7a79637e0",
   "metadata": {},
   "source": [
    "**Combine columns**"
   ]
  },
  {
   "cell_type": "code",
   "execution_count": 11,
   "id": "d1312712-6731-4774-8bcc-33c6ec2dc165",
   "metadata": {},
   "outputs": [
    {
     "data": {
      "text/html": [
       "<div>\n",
       "<style scoped>\n",
       "    .dataframe tbody tr th:only-of-type {\n",
       "        vertical-align: middle;\n",
       "    }\n",
       "\n",
       "    .dataframe tbody tr th {\n",
       "        vertical-align: top;\n",
       "    }\n",
       "\n",
       "    .dataframe thead th {\n",
       "        text-align: right;\n",
       "    }\n",
       "</style>\n",
       "<table border=\"1\" class=\"dataframe\">\n",
       "  <thead>\n",
       "    <tr style=\"text-align: right;\">\n",
       "      <th></th>\n",
       "      <th>title</th>\n",
       "      <th>text</th>\n",
       "      <th>label</th>\n",
       "      <th>article</th>\n",
       "    </tr>\n",
       "  </thead>\n",
       "  <tbody>\n",
       "    <tr>\n",
       "      <th>0</th>\n",
       "      <td>Sanders back in U.S. Senate, blasts 'coloniali...</td>\n",
       "      <td>WASHINGTON (Reuters) - Democratic U.S. preside...</td>\n",
       "      <td>1</td>\n",
       "      <td>Sanders back in U.S. Senate, blasts 'coloniali...</td>\n",
       "    </tr>\n",
       "    <tr>\n",
       "      <th>1</th>\n",
       "      <td>Kremlin: Syria peoples' congress being 'active...</td>\n",
       "      <td>MOSCOW (Reuters) - A proposal to convene a con...</td>\n",
       "      <td>1</td>\n",
       "      <td>Kremlin: Syria peoples' congress being 'active...</td>\n",
       "    </tr>\n",
       "    <tr>\n",
       "      <th>2</th>\n",
       "      <td>Oregon Cop Convicted Of Shattering Bikers Co...</td>\n",
       "      <td>In a baffling fit of rage, an Oregon State Pol...</td>\n",
       "      <td>0</td>\n",
       "      <td>Oregon Cop Convicted Of Shattering Bikers Co...</td>\n",
       "    </tr>\n",
       "    <tr>\n",
       "      <th>3</th>\n",
       "      <td>Twitter Erupts With Glee Over #CruzSexScandal...</td>\n",
       "      <td>The last thing any politician running for the ...</td>\n",
       "      <td>0</td>\n",
       "      <td>Twitter Erupts With Glee Over #CruzSexScandal...</td>\n",
       "    </tr>\n",
       "    <tr>\n",
       "      <th>4</th>\n",
       "      <td>MUST WATCH VIDEO: Obama Tries To Trash Trump B...</td>\n",
       "      <td>This is too good to miss! Mr. Teleprompter did...</td>\n",
       "      <td>0</td>\n",
       "      <td>MUST WATCH VIDEO: Obama Tries To Trash Trump B...</td>\n",
       "    </tr>\n",
       "  </tbody>\n",
       "</table>\n",
       "</div>"
      ],
      "text/plain": [
       "                                               title  \\\n",
       "0  Sanders back in U.S. Senate, blasts 'coloniali...   \n",
       "1  Kremlin: Syria peoples' congress being 'active...   \n",
       "2   Oregon Cop Convicted Of Shattering Bikers Co...   \n",
       "3   Twitter Erupts With Glee Over #CruzSexScandal...   \n",
       "4  MUST WATCH VIDEO: Obama Tries To Trash Trump B...   \n",
       "\n",
       "                                                text  label  \\\n",
       "0  WASHINGTON (Reuters) - Democratic U.S. preside...      1   \n",
       "1  MOSCOW (Reuters) - A proposal to convene a con...      1   \n",
       "2  In a baffling fit of rage, an Oregon State Pol...      0   \n",
       "3  The last thing any politician running for the ...      0   \n",
       "4  This is too good to miss! Mr. Teleprompter did...      0   \n",
       "\n",
       "                                             article  \n",
       "0  Sanders back in U.S. Senate, blasts 'coloniali...  \n",
       "1  Kremlin: Syria peoples' congress being 'active...  \n",
       "2   Oregon Cop Convicted Of Shattering Bikers Co...  \n",
       "3   Twitter Erupts With Glee Over #CruzSexScandal...  \n",
       "4  MUST WATCH VIDEO: Obama Tries To Trash Trump B...  "
      ]
     },
     "execution_count": 11,
     "metadata": {},
     "output_type": "execute_result"
    }
   ],
   "source": [
    "df['article'] = df['title']+ ' '+ df['text']\n",
    "df.head()"
   ]
  },
  {
   "cell_type": "markdown",
   "id": "c279ab1c-1b35-4599-a456-a4193cde1918",
   "metadata": {},
   "source": [
    "**Cleaning text**"
   ]
  },
  {
   "cell_type": "code",
   "execution_count": 13,
   "id": "56765620-f309-46eb-8a43-d4ebd316c558",
   "metadata": {},
   "outputs": [],
   "source": [
    "def clean_text(text:str) -> str:\n",
    "    text = re.sub(r'\\b([A-Z])\\.(?=[A-Z])' , r'\\1_', text) #preserve abbreviation\n",
    "    text = re.sub(r'[^\\w\\s]', '', text.lower())\n",
    "    text = text.replace('_' ,'.')\n",
    "    return text\n",
    "\n"
   ]
  },
  {
   "cell_type": "code",
   "execution_count": 14,
   "id": "5ff023f0-3e83-4179-a4cf-a9459b0371da",
   "metadata": {},
   "outputs": [],
   "source": [
    "texts = list(df.iloc[:,3])\n",
    "\n",
    "for i, text in enumerate(texts):\n",
    "    c_text = clean_text(text)\n",
    "    df.iloc[i,3] = str(c_text)"
   ]
  },
  {
   "cell_type": "code",
   "execution_count": 15,
   "id": "f3379f13-939e-44ab-aa04-a89252ec4bf1",
   "metadata": {},
   "outputs": [
    {
     "data": {
      "text/html": [
       "<div>\n",
       "<style scoped>\n",
       "    .dataframe tbody tr th:only-of-type {\n",
       "        vertical-align: middle;\n",
       "    }\n",
       "\n",
       "    .dataframe tbody tr th {\n",
       "        vertical-align: top;\n",
       "    }\n",
       "\n",
       "    .dataframe thead th {\n",
       "        text-align: right;\n",
       "    }\n",
       "</style>\n",
       "<table border=\"1\" class=\"dataframe\">\n",
       "  <thead>\n",
       "    <tr style=\"text-align: right;\">\n",
       "      <th></th>\n",
       "      <th>title</th>\n",
       "      <th>text</th>\n",
       "      <th>label</th>\n",
       "      <th>article</th>\n",
       "    </tr>\n",
       "  </thead>\n",
       "  <tbody>\n",
       "    <tr>\n",
       "      <th>0</th>\n",
       "      <td>Sanders back in U.S. Senate, blasts 'coloniali...</td>\n",
       "      <td>WASHINGTON (Reuters) - Democratic U.S. preside...</td>\n",
       "      <td>1</td>\n",
       "      <td>sanders back in u.s senate blasts colonialism ...</td>\n",
       "    </tr>\n",
       "    <tr>\n",
       "      <th>1</th>\n",
       "      <td>Kremlin: Syria peoples' congress being 'active...</td>\n",
       "      <td>MOSCOW (Reuters) - A proposal to convene a con...</td>\n",
       "      <td>1</td>\n",
       "      <td>kremlin syria peoples congress being actively ...</td>\n",
       "    </tr>\n",
       "    <tr>\n",
       "      <th>2</th>\n",
       "      <td>Oregon Cop Convicted Of Shattering Bikers Co...</td>\n",
       "      <td>In a baffling fit of rage, an Oregon State Pol...</td>\n",
       "      <td>0</td>\n",
       "      <td>oregon cop convicted of shattering bikers col...</td>\n",
       "    </tr>\n",
       "    <tr>\n",
       "      <th>3</th>\n",
       "      <td>Twitter Erupts With Glee Over #CruzSexScandal...</td>\n",
       "      <td>The last thing any politician running for the ...</td>\n",
       "      <td>0</td>\n",
       "      <td>twitter erupts with glee over cruzsexscandal ...</td>\n",
       "    </tr>\n",
       "    <tr>\n",
       "      <th>4</th>\n",
       "      <td>MUST WATCH VIDEO: Obama Tries To Trash Trump B...</td>\n",
       "      <td>This is too good to miss! Mr. Teleprompter did...</td>\n",
       "      <td>0</td>\n",
       "      <td>must watch video obama tries to trash trump bu...</td>\n",
       "    </tr>\n",
       "  </tbody>\n",
       "</table>\n",
       "</div>"
      ],
      "text/plain": [
       "                                               title  \\\n",
       "0  Sanders back in U.S. Senate, blasts 'coloniali...   \n",
       "1  Kremlin: Syria peoples' congress being 'active...   \n",
       "2   Oregon Cop Convicted Of Shattering Bikers Co...   \n",
       "3   Twitter Erupts With Glee Over #CruzSexScandal...   \n",
       "4  MUST WATCH VIDEO: Obama Tries To Trash Trump B...   \n",
       "\n",
       "                                                text  label  \\\n",
       "0  WASHINGTON (Reuters) - Democratic U.S. preside...      1   \n",
       "1  MOSCOW (Reuters) - A proposal to convene a con...      1   \n",
       "2  In a baffling fit of rage, an Oregon State Pol...      0   \n",
       "3  The last thing any politician running for the ...      0   \n",
       "4  This is too good to miss! Mr. Teleprompter did...      0   \n",
       "\n",
       "                                             article  \n",
       "0  sanders back in u.s senate blasts colonialism ...  \n",
       "1  kremlin syria peoples congress being actively ...  \n",
       "2   oregon cop convicted of shattering bikers col...  \n",
       "3   twitter erupts with glee over cruzsexscandal ...  \n",
       "4  must watch video obama tries to trash trump bu...  "
      ]
     },
     "execution_count": 15,
     "metadata": {},
     "output_type": "execute_result"
    }
   ],
   "source": [
    "df.head()"
   ]
  },
  {
   "cell_type": "markdown",
   "id": "a7762d5e-7603-493d-9981-13e6a3789521",
   "metadata": {},
   "source": [
    "**Tokenization and Nomalization**"
   ]
  },
  {
   "cell_type": "code",
   "execution_count": 17,
   "id": "c8520798-2491-4135-be17-f82c72b962fe",
   "metadata": {},
   "outputs": [],
   "source": [
    "import nltk\n",
    "from nltk.tokenize import word_tokenize\n",
    "from nltk.stem import WordNetLemmatizer\n",
    "from nltk.corpus import stopwords\n"
   ]
  },
  {
   "cell_type": "code",
   "execution_count": 18,
   "id": "34a8bf67-9314-47d9-8c41-839c30b56726",
   "metadata": {},
   "outputs": [
    {
     "name": "stderr",
     "output_type": "stream",
     "text": [
      "[nltk_data] Downloading package wordnet to\n",
      "[nltk_data]     C:\\Users\\ADMIN\\AppData\\Roaming\\nltk_data...\n",
      "[nltk_data]   Package wordnet is already up-to-date!\n"
     ]
    },
    {
     "data": {
      "text/plain": [
       "True"
      ]
     },
     "execution_count": 18,
     "metadata": {},
     "output_type": "execute_result"
    }
   ],
   "source": [
    "nltk.download('wordnet')"
   ]
  },
  {
   "cell_type": "code",
   "execution_count": 19,
   "id": "80748c9f-4b4c-4bf5-a61b-79a315d0a7f1",
   "metadata": {},
   "outputs": [
    {
     "data": {
      "text/plain": [
       "'must watch video obama tries to trash trump but turns into a babbling mess video this is too good to miss mr teleprompter didn t do so well when he went off script during an appearance in indiana '"
      ]
     },
     "execution_count": 19,
     "metadata": {},
     "output_type": "execute_result"
    }
   ],
   "source": [
    "text = df.iloc[4,3]\n",
    "text "
   ]
  },
  {
   "cell_type": "code",
   "execution_count": 20,
   "id": "34ca2d34-eab5-45ce-abe1-e57cf7a1477d",
   "metadata": {},
   "outputs": [],
   "source": [
    "def tokenize_stop_lemma(text:str) -> str:\n",
    "    tokens = word_tokenize(text)\n",
    "    lemmer = WordNetLemmatizer()\n",
    "    stop_words = stopwords.words('english') \n",
    "    filtered_tokens = []\n",
    "    \n",
    "    for word in tokens:\n",
    "        word = lemmer.lemmatize(word)\n",
    "        if word not in stop_words:\n",
    "            filtered_tokens.append(word)\n",
    "            \n",
    "    text = ' '.join(filtered_tokens)\n",
    "    return text"
   ]
  },
  {
   "cell_type": "code",
   "execution_count": 21,
   "id": "c4e49279-2df2-431b-8221-6e871317929c",
   "metadata": {},
   "outputs": [],
   "source": [
    "texts = list(df['article'])\n",
    "\n",
    "for i, text in enumerate(texts):\n",
    "    filtered_text = tokenize_stop_lemma(text)\n",
    "\n",
    "    df.iloc[i,3] = filtered_text"
   ]
  },
  {
   "cell_type": "code",
   "execution_count": 22,
   "id": "db7375e1-f489-47e1-b53c-9cc1d83d35c1",
   "metadata": {},
   "outputs": [
    {
     "data": {
      "text/html": [
       "<div>\n",
       "<style scoped>\n",
       "    .dataframe tbody tr th:only-of-type {\n",
       "        vertical-align: middle;\n",
       "    }\n",
       "\n",
       "    .dataframe tbody tr th {\n",
       "        vertical-align: top;\n",
       "    }\n",
       "\n",
       "    .dataframe thead th {\n",
       "        text-align: right;\n",
       "    }\n",
       "</style>\n",
       "<table border=\"1\" class=\"dataframe\">\n",
       "  <thead>\n",
       "    <tr style=\"text-align: right;\">\n",
       "      <th></th>\n",
       "      <th>title</th>\n",
       "      <th>text</th>\n",
       "      <th>label</th>\n",
       "      <th>article</th>\n",
       "    </tr>\n",
       "  </thead>\n",
       "  <tbody>\n",
       "    <tr>\n",
       "      <th>0</th>\n",
       "      <td>Sanders back in U.S. Senate, blasts 'coloniali...</td>\n",
       "      <td>WASHINGTON (Reuters) - Democratic U.S. preside...</td>\n",
       "      <td>1</td>\n",
       "      <td>sander back u.s senate blast colonialism puert...</td>\n",
       "    </tr>\n",
       "    <tr>\n",
       "      <th>1</th>\n",
       "      <td>Kremlin: Syria peoples' congress being 'active...</td>\n",
       "      <td>MOSCOW (Reuters) - A proposal to convene a con...</td>\n",
       "      <td>1</td>\n",
       "      <td>kremlin syria people congress actively discuss...</td>\n",
       "    </tr>\n",
       "    <tr>\n",
       "      <th>2</th>\n",
       "      <td>Oregon Cop Convicted Of Shattering Bikers Co...</td>\n",
       "      <td>In a baffling fit of rage, an Oregon State Pol...</td>\n",
       "      <td>0</td>\n",
       "      <td>oregon cop convicted shattering bikers collarb...</td>\n",
       "    </tr>\n",
       "    <tr>\n",
       "      <th>3</th>\n",
       "      <td>Twitter Erupts With Glee Over #CruzSexScandal...</td>\n",
       "      <td>The last thing any politician running for the ...</td>\n",
       "      <td>0</td>\n",
       "      <td>twitter erupts glee cruzsexscandal rumor tweet...</td>\n",
       "    </tr>\n",
       "    <tr>\n",
       "      <th>4</th>\n",
       "      <td>MUST WATCH VIDEO: Obama Tries To Trash Trump B...</td>\n",
       "      <td>This is too good to miss! Mr. Teleprompter did...</td>\n",
       "      <td>0</td>\n",
       "      <td>must watch video obama try trash trump turn ba...</td>\n",
       "    </tr>\n",
       "  </tbody>\n",
       "</table>\n",
       "</div>"
      ],
      "text/plain": [
       "                                               title  \\\n",
       "0  Sanders back in U.S. Senate, blasts 'coloniali...   \n",
       "1  Kremlin: Syria peoples' congress being 'active...   \n",
       "2   Oregon Cop Convicted Of Shattering Bikers Co...   \n",
       "3   Twitter Erupts With Glee Over #CruzSexScandal...   \n",
       "4  MUST WATCH VIDEO: Obama Tries To Trash Trump B...   \n",
       "\n",
       "                                                text  label  \\\n",
       "0  WASHINGTON (Reuters) - Democratic U.S. preside...      1   \n",
       "1  MOSCOW (Reuters) - A proposal to convene a con...      1   \n",
       "2  In a baffling fit of rage, an Oregon State Pol...      0   \n",
       "3  The last thing any politician running for the ...      0   \n",
       "4  This is too good to miss! Mr. Teleprompter did...      0   \n",
       "\n",
       "                                             article  \n",
       "0  sander back u.s senate blast colonialism puert...  \n",
       "1  kremlin syria people congress actively discuss...  \n",
       "2  oregon cop convicted shattering bikers collarb...  \n",
       "3  twitter erupts glee cruzsexscandal rumor tweet...  \n",
       "4  must watch video obama try trash trump turn ba...  "
      ]
     },
     "execution_count": 22,
     "metadata": {},
     "output_type": "execute_result"
    }
   ],
   "source": [
    "df.head()"
   ]
  },
  {
   "cell_type": "code",
   "execution_count": 23,
   "id": "4194d3f7-fab1-4454-8e08-6809015f58db",
   "metadata": {},
   "outputs": [
    {
     "data": {
      "text/plain": [
       "'kremlin syria people congress actively discussed moscow reuters proposal convene congress syria ethnic group joint initiative promoted russia others actively discussed kremlin said friday premature however discus time venue congress seen mechanism assist syria postwar development putin spokesman dmitry peskov told conference call reporter putin mentioned idea holding congress forum foreign scholar thursday'"
      ]
     },
     "execution_count": 23,
     "metadata": {},
     "output_type": "execute_result"
    }
   ],
   "source": [
    "df.iloc[1,3]"
   ]
  },
  {
   "cell_type": "markdown",
   "id": "50f98e28-2503-4a23-85ad-522a61bb2316",
   "metadata": {},
   "source": [
    "**Feature Extraction**"
   ]
  },
  {
   "cell_type": "code",
   "execution_count": 25,
   "id": "ec67021e-06a2-4b6f-a7aa-569ae261a5f9",
   "metadata": {},
   "outputs": [],
   "source": [
    "from sklearn.feature_extraction.text import TfidfVectorizer"
   ]
  },
  {
   "cell_type": "code",
   "execution_count": 26,
   "id": "3f40924d-b82b-4025-ac24-5357c9838dfe",
   "metadata": {},
   "outputs": [],
   "source": [
    "tf_vectorizer = TfidfVectorizer(ngram_range = (1,2), max_features = 5000)\n",
    "X = tf_vectorizer.fit_transform(df['article'])"
   ]
  },
  {
   "cell_type": "code",
   "execution_count": 27,
   "id": "8f7ddf27-d657-42ca-bbc9-5cd5a3da8f89",
   "metadata": {},
   "outputs": [
    {
     "data": {
      "text/plain": [
       "(5000,)"
      ]
     },
     "execution_count": 27,
     "metadata": {},
     "output_type": "execute_result"
    }
   ],
   "source": [
    "Vocab = tf_vectorizer.get_feature_names_out()\n",
    "Vocab.shape"
   ]
  },
  {
   "cell_type": "code",
   "execution_count": 28,
   "id": "56f7f0a8-54fd-40fb-98a6-c29e12f26a21",
   "metadata": {},
   "outputs": [
    {
     "data": {
      "text/plain": [
       "array(['10', '10 percent', '10 year', '100', '1000', '10000', '100000',\n",
       "       '11', '12', '13', '14', '15', '16', '17', '18', '19', '1990s',\n",
       "       '20', '20 percent', '20 year'], dtype=object)"
      ]
     },
     "execution_count": 28,
     "metadata": {},
     "output_type": "execute_result"
    }
   ],
   "source": [
    "Vocab[0:20]"
   ]
  },
  {
   "cell_type": "code",
   "execution_count": 29,
   "id": "90a85b39-c085-4484-8389-7489760c2ae9",
   "metadata": {},
   "outputs": [],
   "source": [
    "y = df['label']"
   ]
  },
  {
   "cell_type": "markdown",
   "id": "ceae076b-b336-40d9-9730-4a740e63d0e2",
   "metadata": {},
   "source": [
    "**Train and Test with Logistic Regression**"
   ]
  },
  {
   "cell_type": "code",
   "execution_count": 31,
   "id": "d0f31251-4a3a-46e6-9714-1c2ad4b7256b",
   "metadata": {},
   "outputs": [],
   "source": [
    "from sklearn.linear_model import LogisticRegression\n",
    "from sklearn.model_selection import StratifiedKFold\n",
    "\n",
    "from sklearn.metrics import accuracy_score\n",
    "from sklearn.metrics import precision_score\n",
    "from sklearn.metrics import recall_score\n",
    "from sklearn.metrics import f1_score\n",
    "from sklearn.metrics import confusion_matrix\n",
    "from sklearn.metrics import classification_report"
   ]
  },
  {
   "cell_type": "code",
   "execution_count": 32,
   "id": "98fe6fbf-85d9-433e-addf-ed3a117db855",
   "metadata": {},
   "outputs": [
    {
     "name": "stdout",
     "output_type": "stream",
     "text": [
      "Accuracy: 0.9674\tPrecision: 0.9666\tRecall: 0.9722\tF1 Score: 0.9694\n",
      "\n",
      "Accuracy: 0.9520\tPrecision: 0.9623\tRecall: 0.9467\tF1 Score: 0.9544\n",
      "\n",
      "Accuracy: 0.9569\tPrecision: 0.9542\tRecall: 0.9652\tF1 Score: 0.9597\n",
      "\n",
      "Accuracy: 0.9532\tPrecision: 0.9539\tRecall: 0.9583\tF1 Score: 0.9561\n",
      "\n",
      "Accuracy: 0.9649\tPrecision: 0.9653\tRecall: 0.9687\tF1 Score: 0.9670\n",
      "\n"
     ]
    }
   ],
   "source": [
    "kf = StratifiedKFold(n_splits=5, shuffle=True, random_state=42)\n",
    "\n",
    "y_true_all = np.array([]) \n",
    "y_pred_all = np.array([]) \n",
    "accuracy_lr = []\n",
    "\n",
    "for train_index , test_index in kf.split(X,y):\n",
    "    X_train, X_test = X[train_index], X[test_index]\n",
    "    y_train, y_test = y.iloc[train_index], y.iloc[test_index]\n",
    "\n",
    "    model_lr = LogisticRegression()\n",
    "    model_lr.fit(X_train, y_train)\n",
    "\n",
    "    y_pred = model_lr.predict(X_test)\n",
    "\n",
    "    acc = accuracy_score(y_test, y_pred)\n",
    "    preci = precision_score(y_test, y_pred, average = 'binary')\n",
    "    recall = recall_score(y_test, y_pred, average='binary')\n",
    "    f1 = f1_score(y_test, y_pred, average='binary')\n",
    "\n",
    "    y_true_all = np.concatenate([y_true_all, y_test])\n",
    "    y_pred_all = np.concatenate([y_pred_all, y_pred])\n",
    "    accuracy_lr.append(acc)\n",
    "    \n",
    "    print(f\"Accuracy: {acc:.4f}\\tPrecision: {preci:.4f}\\tRecall: {recall:.4f}\\tF1 Score: {f1:.4f}\\n\")\n"
   ]
  },
  {
   "cell_type": "code",
   "execution_count": 33,
   "id": "c49cd91e-b820-4763-82a6-85b054e47ff1",
   "metadata": {},
   "outputs": [
    {
     "data": {
      "image/png": "[encoded data removed]",
      "text/plain": [
       "<Figure size 800x500 with 1 Axes>"
      ]
     },
     "metadata": {},
     "output_type": "display_data"
    }
   ],
   "source": [
    "plt.figure(figsize = (8,5))\n",
    "sns.lineplot(x = ['fold1', 'fold2', 'fold3', 'fold4', 'fold5'], y = accuracy_lr, marker = 'o', linestyle = '-')\n",
    "plt.xlabel('Each Folds')\n",
    "plt.ylabel('Accuracy')\n",
    "plt.show()"
   ]
  },
  {
   "cell_type": "code",
   "execution_count": 34,
   "id": "2c8aede3-4de5-4e4d-baec-d6c48bc2ba0f",
   "metadata": {},
   "outputs": [
    {
     "name": "stdout",
     "output_type": "stream",
     "text": [
      "Confusion Matrix:\n",
      " [[3632  171]\n",
      " [ 163 4151]]\n",
      "\n",
      "Classification Report:\n",
      "               precision    recall  f1-score   support\n",
      "\n",
      "         0.0       0.96      0.96      0.96      3803\n",
      "         1.0       0.96      0.96      0.96      4314\n",
      "\n",
      "    accuracy                           0.96      8117\n",
      "   macro avg       0.96      0.96      0.96      8117\n",
      "weighted avg       0.96      0.96      0.96      8117\n",
      "\n"
     ]
    }
   ],
   "source": [
    "cm_lr = confusion_matrix(y_true_all, y_pred_all)\n",
    "\n",
    "print(\"Confusion Matrix:\\n\", cm_lr)\n",
    "print(\"\\nClassification Report:\\n\", classification_report(y_true_all, y_pred_all))"
   ]
  },
  {
   "cell_type": "code",
   "execution_count": 35,
   "id": "7dd0d302-f053-473c-b237-8dcef1f72feb",
   "metadata": {},
   "outputs": [
    {
     "data": {
      "text/plain": [
       "<Axes: >"
      ]
     },
     "execution_count": 35,
     "metadata": {},
     "output_type": "execute_result"
    },
    {
     "data": {
      "image/png": "[encoded data removed]",
      "text/plain": [
       "<Figure size 800x500 with 2 Axes>"
      ]
     },
     "metadata": {},
     "output_type": "display_data"
    }
   ],
   "source": [
    "label = np.unique(y_true_all) #[0,1]\n",
    "label_name = ['Fake', 'Real']\n",
    "\n",
    "plt.figure(figsize = (8,5))\n",
    "sns.heatmap(cm_lr, annot = True, cmap = 'Blues', fmt = 'g', xticklabels = label_name, yticklabels = label_name)"
   ]
  },
  {
   "cell_type": "markdown",
   "id": "2fbd6151-86aa-4097-917a-e7b20449e968",
   "metadata": {},
   "source": [
    "**Train and Test with Navie Bayes**"
   ]
  },
  {
   "cell_type": "code",
   "execution_count": 37,
   "id": "8eec04ba-bc68-41e0-9a8b-ed65109af828",
   "metadata": {},
   "outputs": [],
   "source": [
    "from sklearn.naive_bayes import MultinomialNB"
   ]
  },
  {
   "cell_type": "code",
   "execution_count": 38,
   "id": "e2ff0660-ed26-4acb-92b0-599cbed927b4",
   "metadata": {},
   "outputs": [
    {
     "name": "stdout",
     "output_type": "stream",
     "text": [
      "Accuracy: 0.9298\tPrecision: 0.9380\tRecall: 0.9293\tF1 Score: 0.9336\n",
      "\n",
      "Accuracy: 0.9200\tPrecision: 0.9379\tRecall: 0.9096\tF1 Score: 0.9235\n",
      "\n",
      "Accuracy: 0.9236\tPrecision: 0.9394\tRecall: 0.9154\tF1 Score: 0.9272\n",
      "\n",
      "Accuracy: 0.9168\tPrecision: 0.9303\tRecall: 0.9119\tF1 Score: 0.9210\n",
      "\n",
      "Accuracy: 0.9328\tPrecision: 0.9424\tRecall: 0.9304\tF1 Score: 0.9364\n",
      "\n"
     ]
    }
   ],
   "source": [
    "kf = StratifiedKFold(n_splits=5, shuffle=True, random_state=42)\n",
    "\n",
    "y_true_all = np.array([]) \n",
    "y_pred_all = np.array([]) \n",
    "\n",
    "accuracy_nb = []\n",
    "\n",
    "for train_index , test_index in kf.split(X,y):\n",
    "    X_train, X_test = X[train_index], X[test_index]\n",
    "    y_train, y_test = y.iloc[train_index], y.iloc[test_index]\n",
    "\n",
    "    model_nb = MultinomialNB()\n",
    "    model_nb.fit(X_train, y_train)\n",
    "\n",
    "    y_pred = model_nb.predict(X_test)\n",
    "\n",
    "    acc = accuracy_score(y_test, y_pred)\n",
    "    preci = precision_score(y_test, y_pred, average = 'binary')\n",
    "    recall = recall_score(y_test, y_pred, average='binary')\n",
    "    f1 = f1_score(y_test, y_pred, average='binary')\n",
    "\n",
    "    y_true_all = np.concatenate([y_true_all, y_test])\n",
    "    y_pred_all = np.concatenate([y_pred_all, y_pred])\n",
    "    accuracy_nb.append(acc)\n",
    "        \n",
    "    print(f\"Accuracy: {acc:.4f}\\tPrecision: {preci:.4f}\\tRecall: {recall:.4f}\\tF1 Score: {f1:.4f}\\n\")"
   ]
  },
  {
   "cell_type": "code",
   "execution_count": 39,
   "id": "d3121105-ee27-4447-9d21-12645fbee43c",
   "metadata": {},
   "outputs": [
    {
     "data": {
      "image/png": "[encoded data removed]",
      "text/plain": [
       "<Figure size 800x500 with 1 Axes>"
      ]
     },
     "metadata": {},
     "output_type": "display_data"
    }
   ],
   "source": [
    "plt.figure(figsize = (8,5))\n",
    "\n",
    "sns.lineplot(x = ['fold1', 'fold2', 'fold3', 'fold4', 'fold5'], y = accuracy_nb, marker = 'o', linestyle = '-', color = 'red')\n",
    "plt.show()"
   ]
  },
  {
   "cell_type": "code",
   "execution_count": 40,
   "id": "91fa45e8-1c10-4c4b-acfb-4583a2d0c5a7",
   "metadata": {},
   "outputs": [
    {
     "name": "stdout",
     "output_type": "stream",
     "text": [
      "Confusion Matrix:\n",
      " [[3539  264]\n",
      " [ 348 3966]]\n",
      "\n",
      "Classification Report:\n",
      "               precision    recall  f1-score   support\n",
      "\n",
      "         0.0       0.91      0.93      0.92      3803\n",
      "         1.0       0.94      0.92      0.93      4314\n",
      "\n",
      "    accuracy                           0.92      8117\n",
      "   macro avg       0.92      0.92      0.92      8117\n",
      "weighted avg       0.92      0.92      0.92      8117\n",
      "\n"
     ]
    }
   ],
   "source": [
    "cm_nb = confusion_matrix(y_true_all, y_pred_all)\n",
    "\n",
    "print(\"Confusion Matrix:\\n\", cm_nb)\n",
    "print(\"\\nClassification Report:\\n\", classification_report(y_true_all, y_pred_all))"
   ]
  },
  {
   "cell_type": "code",
   "execution_count": 41,
   "id": "173eaf25-2a90-4208-bbd9-562e8033fc60",
   "metadata": {},
   "outputs": [
    {
     "data": {
      "text/plain": [
       "<Axes: >"
      ]
     },
     "execution_count": 41,
     "metadata": {},
     "output_type": "execute_result"
    },
    {
     "data": {
      "image/png": "[encoded data removed]",
      "text/plain": [
       "<Figure size 800x500 with 2 Axes>"
      ]
     },
     "metadata": {},
     "output_type": "display_data"
    }
   ],
   "source": [
    "plt.figure(figsize = (8,5))\n",
    "sns.heatmap(cm_nb, annot = True, cmap = 'Blues', fmt = 'g', xticklabels = label_name, yticklabels = label_name)"
   ]
  },
  {
   "cell_type": "markdown",
   "id": "b55dd970-d711-4c88-b062-4b2f94cf76f6",
   "metadata": {},
   "source": [
    "**Save model and vectorizer**"
   ]
  },
  {
   "cell_type": "markdown",
   "id": "32d5c0e4-018f-44d8-af3c-e4ba34de5d51",
   "metadata": {},
   "source": [
    "define function to save trained model and vectorizer"
   ]
  },
  {
   "cell_type": "code",
   "execution_count": 44,
   "id": "21159be7-0e21-44f8-b768-39ba4ec66cf9",
   "metadata": {},
   "outputs": [],
   "source": [
    "import pickle"
   ]
  },
  {
   "cell_type": "code",
   "execution_count": 45,
   "id": "9a8b466a-5414-442e-aadf-8fd9fd919851",
   "metadata": {},
   "outputs": [],
   "source": [
    "def save_model(model, model_filename:str):\n",
    "    try:\n",
    "        with open(model_filename, 'wb') as file:\n",
    "            pickle.dump(model,file)\n",
    "        print(\"Save model success\")\n",
    "    except Exception as e:\n",
    "            print(f\"Error : {e}\")\n",
    "        \n",
    "def save_vectorizer(vectorizer, vectoriz_filename:str):\n",
    "    try:\n",
    "        with open(vectoriz_filename, 'wb') as file:\n",
    "            pickle.dump(vectorizer, file)\n",
    "        print(\"Save vectorizer success\")\n",
    "    except Exception as e:\n",
    "        print(f\"Error : {e}\")"
   ]
  },
  {
   "cell_type": "code",
   "execution_count": 46,
   "id": "9e8075e0-047c-488c-8d0b-636c03fb3c0e",
   "metadata": {},
   "outputs": [
    {
     "name": "stdout",
     "output_type": "stream",
     "text": [
      "Save model success\n",
      "Save model success\n",
      "Save vectorizer success\n"
     ]
    }
   ],
   "source": [
    "save_model(model_lr, \"trained_lr_model.pkl\")\n",
    "save_model(model_nb, \"trained_nb_model.pkl\")\n",
    "save_vectorizer(tf_vectorizer, \"trained_vectorizer_tfidf.pkl\")"
   ]
  },
  {
   "cell_type": "markdown",
   "id": "6afac9d0-2f2b-4c77-ba80-9a8d4fdc2851",
   "metadata": {},
   "source": [
    "define function to load saved model"
   ]
  },
  {
   "cell_type": "code",
   "execution_count": 48,
   "id": "dfcee274-bde7-4f2e-9fed-bc24300ef66d",
   "metadata": {},
   "outputs": [],
   "source": [
    "def load_model(filename:str):\n",
    "    try:\n",
    "        with open(filename, 'rb') as file:\n",
    "            model = pickle.load(file)\n",
    "            return model\n",
    "            print(\"Load model success\")\n",
    "    except FileNotFoundError:\n",
    "        print(f\"Not found {filename}\")\n",
    "    except Exception as e:\n",
    "        print(f'Error : {e}')"
   ]
  },
  {
   "cell_type": "markdown",
   "id": "387344d8-8b1b-4658-83af-ee3b09d95a64",
   "metadata": {},
   "source": [
    "**Testing model prediction with new data**"
   ]
  },
  {
   "cell_type": "code",
   "execution_count": 50,
   "id": "a7ec9fc8-c865-48be-8956-697fe890fd6e",
   "metadata": {},
   "outputs": [],
   "source": [
    "def predict(input:str , model, vectorizer):\n",
    "    input = clean_text(input)\n",
    "    input = tokenize_stop_lemma(input)\n",
    "    \n",
    "    new_X = vectorizer.transform([input])\n",
    "\n",
    "    prediction = model.predict(new_X)\n",
    "\n",
    "    if prediction == 0:\n",
    "        result = 'fake news'\n",
    "    elif prediction == 1:\n",
    "        result = 'real news'\n",
    "        \n",
    "    return result "
   ]
  },
  {
   "cell_type": "code",
   "execution_count": 70,
   "id": "ca60241e-866d-426c-9b87-0823187fdb25",
   "metadata": {},
   "outputs": [
    {
     "name": "stdout",
     "output_type": "stream",
     "text": [
      "Fake news =>\n",
      "ATTENTION : Tomorrow morning when you connect to Facebook you'll be invited to payment info.......it's official.....it was even on the news. Facebook will begin to charge fees....because of profile.\n",
      "\n",
      "Real news =>\n",
      "Democrats have been powerless as they’ve watched President Donald Trump systematically move to dismantle federal agencies and push the bounds of his office with little concern about the fallout.\n",
      "\n",
      "Logistic Regression Model Prediction\n",
      "real news input prediction0 : real news\n",
      "fake news input prediction : fake news\n",
      "\n",
      "Navie Bayes Model Prediction\n",
      "real news input prediction : real news\n",
      "fake news input prediction : fake news\n"
     ]
    }
   ],
   "source": [
    "trained_lr_model = load_model(\"trained_lr_model.pkl\")\n",
    "trained_vectorizer = load_model(\"trained_vectorizer_tfidf.pkl\")\n",
    "trained_nb_model = load_model(\"trained_nb_model.pkl\")\n",
    "fake = \"ATTENTION : Tomorrow morning when you connect to Facebook you'll be invited to payment info.......it's official.....it was even on the news. Facebook will begin to charge fees....because of profile.\"\n",
    "\n",
    "real = \"Democrats have been powerless as they’ve watched President Donald Trump systematically move to dismantle federal agencies and push the bounds of his office with little concern about the fallout.\"\n",
    "\n",
    "result_lr1 = predict(real, trained_lr_model, trained_vectorizer)\n",
    "result_lr2 = predict(fake, trained_lr_model, trained_vectorizer)\n",
    "\n",
    "result_nb1 = predict(real, trained_nb_model, trained_vectorizer)\n",
    "result_nb2 = predict(fake, trained_nb_model, trained_vectorizer)\n",
    "\n",
    "print(f\"Fake news =>\\n{fake}\\n\")\n",
    "print(f\"Real news =>\\n{real}\\n\")\n",
    "print(f\"Logistic Regression Model Prediction\\nreal news input prediction0 : {result_lr1}\\nfake news input prediction : {result_lr2}\\n\")\n",
    "print(f\"Navie Bayes Model Prediction\\nreal news input prediction : {result_nb1}\\nfake news input prediction : {result_nb2}\")\n"
   ]
  }
 ],
 "metadata": {
  "kernelspec": {
   "display_name": "Python [conda env:base] *",
   "language": "python",
   "name": "conda-base-py"
  },
  "language_info": {
   "codemirror_mode": {
    "name": "ipython",
    "version": 3
   },
   "file_extension": ".py",
   "mimetype": "text/x-python",
   "name": "python",
   "nbconvert_exporter": "python",
   "pygments_lexer": "ipython3",
   "version": "3.11.3"
  }
 },
 "nbformat": 4,
 "nbformat_minor": 5
}
